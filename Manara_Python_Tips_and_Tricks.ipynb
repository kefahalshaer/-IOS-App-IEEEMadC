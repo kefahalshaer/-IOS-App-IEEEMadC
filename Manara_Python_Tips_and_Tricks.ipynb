{
  "nbformat": 4,
  "nbformat_minor": 0,
  "metadata": {
    "colab": {
      "name": "Manara - Python Tips and Tricks.ipynb",
      "provenance": [],
      "collapsed_sections": [
        "W_EsOErFa6yN",
        "G2zF-7gdUnro",
        "yrJOpoXhabtE",
        "Ux75FsiwVk6c",
        "wfE2vhSRWQum",
        "1EoUxoYgYdmA",
        "Pklb9sCAYxwf",
        "Gj3oVUqGT2rD",
        "gZHFoPPaeKnG",
        "ftsP6aXyXdHe",
        "vty2Y6lyA7lF",
        "mr_RWEiN_uxC",
        "BUH4XLenc3sU",
        "NfLmXmI6_q0Z",
        "2m7M3_SiR82d",
        "AuRg-7-bFuvB",
        "Y8y6DmZIfxFN",
        "M9pva4d_DAQ1",
        "TsuCgCGyOB_7",
        "WgTVbnGyfrox",
        "tgIBO_ztf4O8",
        "VBPOAjXZdtxQ",
        "dgR6YqN1fuIm",
        "11JJbFevfjRb",
        "4rtGroD_XDdW",
        "uV0BklweeHEX"
      ],
      "include_colab_link": true
    },
    "kernelspec": {
      "name": "python3",
      "display_name": "Python 3"
    }
  },
  "cells": [
    {
      "cell_type": "markdown",
      "metadata": {
        "id": "view-in-github",
        "colab_type": "text"
      },
      "source": [
        "<a href=\"https://colab.research.google.com/github/kefahalshaer/-IOS-App-IEEEMadC/blob/master/Manara_Python_Tips_and_Tricks.ipynb\" target=\"_parent\"><img src=\"https://colab.research.google.com/assets/colab-badge.svg\" alt=\"Open In Colab\"/></a>"
      ]
    },
    {
      "cell_type": "markdown",
      "metadata": {
        "id": "AfdcYHT6UU0Q"
      },
      "source": [
        "# Zen of Python\n",
        "\n",
        "https://en.wikipedia.org/wiki/Zen_of_Python"
      ]
    },
    {
      "cell_type": "markdown",
      "metadata": {
        "id": "W_EsOErFa6yN"
      },
      "source": [
        "# f-strings"
      ]
    },
    {
      "cell_type": "code",
      "metadata": {
        "id": "qOC1W2cja92M",
        "outputId": "77447ac8-3bcd-4f10-f08b-d4ade836019d",
        "colab": {
          "base_uri": "https://localhost:8080/"
        }
      },
      "source": [
        "new = \"easier\"\n",
        "old = \"harder\"\n",
        "\n",
        "# Old ways\n",
        "\"The new way is %s and the old way is %s\" % (new, old)\n",
        "\n",
        "\"The new way is {} and the old way is {}\".format(new, old)\n",
        "\n",
        "f\"The new way is {new} and the old way is {old}\""
      ],
      "execution_count": null,
      "outputs": [
        {
          "output_type": "execute_result",
          "data": {
            "text/plain": [
              "'The new way is easier and the old way is harder'"
            ]
          },
          "metadata": {
            "tags": []
          },
          "execution_count": 2
        }
      ]
    },
    {
      "cell_type": "markdown",
      "metadata": {
        "id": "G2zF-7gdUnro"
      },
      "source": [
        "# Get your string methods down"
      ]
    },
    {
      "cell_type": "code",
      "metadata": {
        "id": "LDkWTDHZUtl1",
        "outputId": "7a658a0b-c38b-4a62-94b9-5739578489d0",
        "colab": {
          "base_uri": "https://localhost:8080/"
        }
      },
      "source": [
        "\"Remove the spaces at the end.     \".strip()\n",
        "\"Remove the newline at the end\\n\".rstrip()\n",
        "\"Splitting this sentence into space-sparated words\".split()\n",
        "\"Splitting this sentence from\\nmultiple\\nlines\".split(\"\\n\")\n",
        "\", \".join(['Join', 'this', 'into', 'a', 'single', 'string'])\n",
        "\n",
        "# AND MORE"
      ],
      "execution_count": null,
      "outputs": [
        {
          "output_type": "execute_result",
          "data": {
            "text/plain": [
              "'Join, this, into, a, single, string'"
            ]
          },
          "metadata": {
            "tags": []
          },
          "execution_count": 88
        }
      ]
    },
    {
      "cell_type": "markdown",
      "metadata": {
        "id": "yrJOpoXhabtE"
      },
      "source": [
        "# Truthy-ness is your friend"
      ]
    },
    {
      "cell_type": "code",
      "metadata": {
        "id": "AiKZd2cOaXKj",
        "outputId": "8f232a54-932f-4d08-be87-c06c43c4c940",
        "colab": {
          "base_uri": "https://localhost:8080/",
          "height": 260
        }
      },
      "source": [
        "false_objs = [\n",
        "              False,\n",
        "               [],\n",
        "               '',\n",
        "               0,\n",
        "               set(),\n",
        "               {},\n",
        "               tuple()\n",
        "]\n",
        "for obj in false_objs:\n",
        "  if obj:\n",
        "    print(f\"{str(obj)} is true\")\n",
        "  else:\n",
        "    print(f\"{str(obj)} is false\")\n",
        "\n",
        "if len(array) == 0:\n",
        "  pass\n",
        "\n",
        "if not array:\n",
        "  pass\n",
        "  \n",
        "true_objs = [\n",
        "              True,\n",
        "               ['anything'],\n",
        "               'anything',\n",
        "               1,\n",
        "               set([1]),\n",
        "               {'a': 2},\n",
        "               (1,)\n",
        "]\n",
        "for obj in true_objs:\n",
        "  if obj:\n",
        "    print(f\"{str(obj)} is true\")\n",
        "  else:\n",
        "    print(f\"{str(obj)} is false\")"
      ],
      "execution_count": null,
      "outputs": [
        {
          "output_type": "stream",
          "text": [
            "False is false\n",
            "[] is false\n",
            " is false\n",
            "0 is false\n",
            "set() is false\n",
            "{} is false\n",
            "() is false\n",
            "True is true\n",
            "['anything'] is true\n",
            "anything is true\n",
            "1 is true\n",
            "{1} is true\n",
            "{'a': 2} is true\n",
            "(1,) is true\n"
          ],
          "name": "stdout"
        }
      ]
    },
    {
      "cell_type": "markdown",
      "metadata": {
        "id": "Ux75FsiwVk6c"
      },
      "source": [
        "# Ternary and or"
      ]
    },
    {
      "cell_type": "code",
      "metadata": {
        "id": "xfnbtYQpVjy7",
        "outputId": "8332cf9a-7ed7-48ac-e0bd-b7b144f11dec",
        "colab": {
          "base_uri": "https://localhost:8080/"
        }
      },
      "source": [
        "def fn(kwarg=None):\n",
        "  if kwarg is None:\n",
        "    kwarg = 5\n",
        "\n",
        "def fn(kwarg=None):\n",
        "  kwarg = 5 if kwarg else 9\n",
        "\n",
        "def fn(kwarg=None):\n",
        "  kwarg = kwarg or 5\n",
        "\n",
        "\n",
        "def foo():\n",
        "  return True or \"test\"\n",
        "\n",
        "foo()"
      ],
      "execution_count": null,
      "outputs": [
        {
          "output_type": "execute_result",
          "data": {
            "text/plain": [
              "True"
            ]
          },
          "metadata": {
            "tags": []
          },
          "execution_count": 4
        }
      ]
    },
    {
      "cell_type": "markdown",
      "metadata": {
        "id": "wfE2vhSRWQum"
      },
      "source": [
        "# Underscores in numbers"
      ]
    },
    {
      "cell_type": "code",
      "metadata": {
        "id": "Iqa4bNDfWS95"
      },
      "source": [
        "x = 1_000_000\n",
        "y = 100000000000"
      ],
      "execution_count": null,
      "outputs": []
    },
    {
      "cell_type": "markdown",
      "metadata": {
        "id": "nxXnL7db-gEb"
      },
      "source": [
        "# \"Private functions\"\n",
        "\n",
        "Use an underscore in front of a method to indicate to the user that it is intended to be private. This does not actually restrict it's usage but it is a convention python developers use."
      ]
    },
    {
      "cell_type": "code",
      "metadata": {
        "id": "WDEHPeMa-e7E"
      },
      "source": [
        "class Example:\n",
        "  def p(self):\n",
        "    pass\n",
        "\n",
        "  def _private_method(self):\n",
        "    pass"
      ],
      "execution_count": null,
      "outputs": []
    },
    {
      "cell_type": "markdown",
      "metadata": {
        "id": "1EoUxoYgYdmA"
      },
      "source": [
        "# Chained Assignment"
      ]
    },
    {
      "cell_type": "code",
      "metadata": {
        "id": "v57-VkiVYfpU",
        "outputId": "acb8c8fc-beb2-48a6-a8c5-bdac7248fea9",
        "colab": {
          "base_uri": "https://localhost:8080/"
        }
      },
      "source": [
        "x = y = z = 0\n",
        "\n",
        "# Dragons\n",
        "x = y = []\n",
        "x.append(5)\n",
        "print(y)\n",
        "\n"
      ],
      "execution_count": null,
      "outputs": [
        {
          "output_type": "stream",
          "text": [
            "[5]\n"
          ],
          "name": "stdout"
        }
      ]
    },
    {
      "cell_type": "markdown",
      "metadata": {
        "id": "Pklb9sCAYxwf"
      },
      "source": [
        "# Chained Comparison"
      ]
    },
    {
      "cell_type": "code",
      "metadata": {
        "id": "vV3dbbXfYzE-"
      },
      "source": [
        "x = 2\n",
        "\n",
        "if x > 5 and x < 10:\n",
        "  pass\n",
        "\n",
        "if 5 < x < 10:\n",
        "  pass"
      ],
      "execution_count": null,
      "outputs": []
    },
    {
      "cell_type": "markdown",
      "metadata": {
        "id": "Gj3oVUqGT2rD"
      },
      "source": [
        "# Generators"
      ]
    },
    {
      "cell_type": "code",
      "metadata": {
        "id": "pBq1WPbCT4iL",
        "outputId": "3496dff6-3a50-4a67-9507-b80eb1586fda",
        "colab": {
          "base_uri": "https://localhost:8080/",
          "height": 225
        }
      },
      "source": [
        "def old_range(start, stop, step):\n",
        "  l = []\n",
        "  i = start\n",
        "  while i < stop:\n",
        "    l.append(i)\n",
        "    i += step\n",
        "  return l\n",
        "\n",
        "def new_range(start, stop, step):\n",
        "  i = start\n",
        "  while i < stop:\n",
        "    yield i\n",
        "    i += step\n",
        "\n",
        "print(old_range(0, 10, 1))\n",
        "\n",
        "\n",
        "\n",
        "print(new_range(0, 10, 1))\n",
        "for v in new_range(0, 10, 1):\n",
        "  print(v)"
      ],
      "execution_count": null,
      "outputs": [
        {
          "output_type": "stream",
          "text": [
            "[0, 1, 2, 3, 4, 5, 6, 7, 8, 9]\n",
            "<generator object new_range at 0x7f1e3e8b65c8>\n",
            "0\n",
            "1\n",
            "2\n",
            "3\n",
            "4\n",
            "5\n",
            "6\n",
            "7\n",
            "8\n",
            "9\n"
          ],
          "name": "stdout"
        }
      ]
    },
    {
      "cell_type": "markdown",
      "metadata": {
        "id": "gZHFoPPaeKnG"
      },
      "source": [
        "# Comprehensions"
      ]
    },
    {
      "cell_type": "code",
      "metadata": {
        "id": "N1GZ5ajBeJ7d",
        "outputId": "d225b075-20a3-4f92-b172-2c61223ad54d",
        "colab": {
          "base_uri": "https://localhost:8080/"
        }
      },
      "source": [
        "squares = []\n",
        "for i in range(5):\n",
        "  squares.append(i**2)\n",
        "\n",
        "\n",
        "squares = [v ** 2 for v in range(5)]\n",
        "print(squares)\n",
        "\n",
        "\n",
        "\n",
        "str_to_int = {str(v): v for v in squares}\n",
        "print(str_to_int)\n",
        "\n",
        "letter_set = {c for c in \"aabbcc\"}\n",
        "print(letter_set)\n",
        "\n",
        "\n",
        "generator_comprehension = (v**2 for v in range(10))\n",
        "print(generator_comprehension)\n",
        "\n",
        "\n",
        "filtered_squares = [v**2 for v in range(10) if v < 8]\n",
        "filtered_squares = [v for v in squares if v < 10]"
      ],
      "execution_count": null,
      "outputs": [
        {
          "output_type": "stream",
          "text": [
            "[0, 1, 4, 9, 16]\n",
            "{'0': 0, '1': 1, '4': 4, '9': 9, '16': 16}\n",
            "{'c', 'a', 'b'}\n",
            "<generator object <genexpr> at 0x7f8c954b0db0>\n"
          ],
          "name": "stdout"
        }
      ]
    },
    {
      "cell_type": "markdown",
      "metadata": {
        "id": "ftsP6aXyXdHe"
      },
      "source": [
        "# Lambda for readability"
      ]
    },
    {
      "cell_type": "code",
      "metadata": {
        "id": "dLZid3x4XfX6"
      },
      "source": [
        "# Lambda are anonymous function for quick operations\n",
        "map(lambda x: x**2, [1,2,3])\n",
        "\n",
        "# You can use them to also improve readability\n",
        "greater_than_5 = lambda x: x > 5\n",
        "greater_than_5(10)\n",
        "map(lambda x: x**2, array)\n",
        "\n",
        "my_dict = {'a': 1, 'b': 2}\n",
        "new_dict = {v: k for k, v in my_dict.items()}\n",
        "\n",
        "invert_dict = lambda d: {v: k for k, v in d.items()}\n",
        "new_dict = invert_dict(my_dict)\n",
        "\n"
      ],
      "execution_count": null,
      "outputs": []
    },
    {
      "cell_type": "markdown",
      "metadata": {
        "id": "vty2Y6lyA7lF"
      },
      "source": [
        "# Packing and Unpacking"
      ]
    },
    {
      "cell_type": "code",
      "metadata": {
        "id": "tYsXUskR4BVV"
      },
      "source": [
        "my_dict = {x: x**2 for x in range(10)}\n",
        "\n",
        "for k, v in my_dict.items():\n",
        "  print(k, v)"
      ],
      "execution_count": null,
      "outputs": []
    },
    {
      "cell_type": "code",
      "metadata": {
        "id": "UcV5Eq6QA5so",
        "outputId": "aceeb115-1872-45df-bf3a-5195eef760ef",
        "colab": {
          "base_uri": "https://localhost:8080/"
        }
      },
      "source": [
        "def fn_returning_list():\n",
        "  return ('a', 'b', 'c')\n",
        "\n",
        "a, b, c = fn()\n",
        "print(a, b, c)"
      ],
      "execution_count": null,
      "outputs": [
        {
          "output_type": "stream",
          "text": [
            "a b c\n"
          ],
          "name": "stdout"
        }
      ]
    },
    {
      "cell_type": "code",
      "metadata": {
        "id": "49YJuuqDB4VX",
        "outputId": "7286ba83-2ac9-44d6-bb8f-e2d4984c3050",
        "colab": {
          "base_uri": "https://localhost:8080/",
          "height": 85
        }
      },
      "source": [
        "def foo(a, *args, **kwargs):\n",
        "  print(f\"a was {a} and the extra args were {args} and extra kwargs were {kwargs}\")\n",
        "\n",
        "print(foo('first'))\n",
        "print(foo('first', 'second', 'third', one_kwarg=\"kwarg\"))\n"
      ],
      "execution_count": null,
      "outputs": [
        {
          "output_type": "stream",
          "text": [
            "a was first and the extra args were () and extra kwargs were {}\n",
            "None\n",
            "a was first and the extra args were ('second', 'third') and extra kwargs were {'one_kwarg': 'kwarg'}\n",
            "None\n"
          ],
          "name": "stdout"
        }
      ]
    },
    {
      "cell_type": "code",
      "metadata": {
        "id": "drwcPU0WCVs_"
      },
      "source": [
        "a, *rest = fn_returning_list()\n",
        "print(rest)"
      ],
      "execution_count": null,
      "outputs": []
    },
    {
      "cell_type": "code",
      "metadata": {
        "id": "5ye_89JdCYfV",
        "outputId": "b2795cd1-cc1c-4f31-b815-df4f7e222b9d",
        "colab": {
          "base_uri": "https://localhost:8080/"
        }
      },
      "source": [
        "def bar(a, b, c, k1=None, k2=None, k3=None):\n",
        "  print(a, b, c, k1, k2, k3)\n",
        "\n",
        "args = [1, 2, 3]\n",
        "kwargs = { \"k1\": 4 }\n",
        "\n",
        "bar(*args, **kwargs)"
      ],
      "execution_count": null,
      "outputs": [
        {
          "output_type": "stream",
          "text": [
            "1 2 3 4 None None\n"
          ],
          "name": "stdout"
        }
      ]
    },
    {
      "cell_type": "markdown",
      "metadata": {
        "id": "mr_RWEiN_uxC"
      },
      "source": [
        "# Enumerate an iterable"
      ]
    },
    {
      "cell_type": "code",
      "metadata": {
        "id": "sKsr-B-WbhL2",
        "outputId": "9a1c3fad-8cf5-4cc2-fc96-d640371526dd",
        "colab": {
          "base_uri": "https://localhost:8080/"
        }
      },
      "source": [
        "print(\"With range\")\n",
        "x = ['a', 'b', 'c']\n",
        "for i in range(len(x)):\n",
        "  v = x[i]\n",
        "  print(i, v)\n",
        "\n",
        "print(\"With enumerate\")\n",
        "for i, v in enumerate(x):\n",
        "  print(i, v)"
      ],
      "execution_count": null,
      "outputs": [
        {
          "output_type": "stream",
          "text": [
            "With range\n",
            "0 a\n",
            "1 b\n",
            "2 c\n",
            "With enumerate\n",
            "0 a\n",
            "1 b\n",
            "2 c\n"
          ],
          "name": "stdout"
        }
      ]
    },
    {
      "cell_type": "markdown",
      "metadata": {
        "id": "BUH4XLenc3sU"
      },
      "source": [
        "# Errors are Idiomatic\n",
        "\n",
        "\"Look before you leap\" vs \"Ask for forgiveness\""
      ]
    },
    {
      "cell_type": "code",
      "metadata": {
        "id": "bEHEkrRvc2it",
        "outputId": "24860136-a322-42af-abad-3b1d8538591b",
        "colab": {
          "base_uri": "https://localhost:8080/",
          "height": 51
        }
      },
      "source": [
        "try:\n",
        "  foo() \n",
        "except (Exception, RuntimeError): \n",
        "  print(\"Exception occured\")\n",
        "except OSError as e:\n",
        "  print(e)\n",
        "else:\n",
        "  print(\"Exception didnt occur\")\n",
        "finally:\n",
        "  print(\"Always gets here\")"
      ],
      "execution_count": null,
      "outputs": [
        {
          "output_type": "stream",
          "text": [
            "Exception occured\n",
            "Always gets here\n"
          ],
          "name": "stdout"
        }
      ]
    },
    {
      "cell_type": "code",
      "metadata": {
        "id": "x-OzqHMgdlVr"
      },
      "source": [
        "for x in []:\n",
        "  if True:\n",
        "    break\n",
        "else:\n",
        "  print(\"For Loop exited normally\")\n",
        "\n",
        "while True:\n",
        "  break\n",
        "else:\n",
        "  print(\"Loop exited normally\")"
      ],
      "execution_count": null,
      "outputs": []
    },
    {
      "cell_type": "markdown",
      "metadata": {
        "id": "NfLmXmI6_q0Z"
      },
      "source": [
        "# Slicing Syntax"
      ]
    },
    {
      "cell_type": "code",
      "metadata": {
        "id": "xB4MjQc8cZZ5",
        "outputId": "39c0929b-0a7c-4245-c655-410b0fdf2baf",
        "colab": {
          "base_uri": "https://localhost:8080/"
        }
      },
      "source": [
        "x = \"This is a long string\"\n",
        "# x[start:stop:step]\n",
        "x[-1] # x[len(x)-1]\n",
        "print(x[5:8])\n",
        "print(x[5:])\n",
        "print(x[::-1])\n",
        "print(x[:-6])\n",
        "print(x[-6:])"
      ],
      "execution_count": null,
      "outputs": [
        {
          "output_type": "stream",
          "text": [
            "is \n",
            "is a long string\n",
            "gnirts gnol a si sihT\n",
            "This is a long \n",
            "string\n"
          ],
          "name": "stdout"
        }
      ]
    },
    {
      "cell_type": "code",
      "metadata": {
        "id": "9f9JUd1Mcoqn",
        "outputId": "da598734-fc06-4ce1-8065-a6636714103e",
        "colab": {
          "base_uri": "https://localhost:8080/",
          "height": 69
        }
      },
      "source": [
        "x = ['a', 'b', 'c', 'a']\n",
        "\n",
        "print([f\"Letter is {v}\" for v in x])\n",
        "print({i: f\"Letter is {v}\" for i, v in enumerate(x)})\n",
        "print({v for v in x})"
      ],
      "execution_count": null,
      "outputs": [
        {
          "output_type": "stream",
          "text": [
            "['Letter is a', 'Letter is b', 'Letter is c', 'Letter is a']\n",
            "{0: 'Letter is a', 1: 'Letter is b', 2: 'Letter is c', 3: 'Letter is a'}\n",
            "{'c', 'b', 'a'}\n"
          ],
          "name": "stdout"
        }
      ]
    },
    {
      "cell_type": "markdown",
      "metadata": {
        "id": "2m7M3_SiR82d"
      },
      "source": [
        "# Sets are very useful\n",
        "\n",
        "* https://docs.python.org/3.8/library/stdtypes.html#set-types-set-frozenset"
      ]
    },
    {
      "cell_type": "markdown",
      "metadata": {
        "id": "AuRg-7-bFuvB"
      },
      "source": [
        "# Iterables\n",
        "\n",
        "An iterable is something that implements next and can work anywhere sequences are used.\n"
      ]
    },
    {
      "cell_type": "code",
      "metadata": {
        "id": "rxj03GQSF_0V",
        "outputId": "ba1c61b6-1d58-4a6f-e813-3374a4fed8b9",
        "colab": {
          "base_uri": "https://localhost:8080/"
        }
      },
      "source": [
        "def treat_as_iterable(iterable_var):\n",
        "  print(iterable_var)\n",
        "  first_pass = []\n",
        "  for v in iterable_var:\n",
        "    first_pass.append(v)\n",
        "  print(\"\\tFirst Pass\", first_pass)\n",
        "  print(\"\\tSecond pass\", [v for v in iterable_var])\n",
        "  print()\n",
        "\n",
        "\n",
        "lists_exist = [1, 2, 3]\n",
        "treat_as_iterable(lists_exist)\n",
        "\n",
        "reverse_generates = reversed(range(10))\n",
        "treat_as_iterable(reverse_generates)\n",
        "\n",
        "map_generates = map(lambda x: x**2, range(5))\n",
        "treat_as_iterable(map_generates)\n",
        "\n",
        "zip_generates = zip(range(5), range(5, 10))\n",
        "treat_as_iterable(zip_generates)\n",
        "\n",
        "range_generates = range(5)\n",
        "treat_as_iterable(range_generates)\n",
        "\n",
        "comprehensions_exist = [x for x in zip(range(5), range(5, 10))]\n",
        "treat_as_iterable(comprehensions_exist)\n"
      ],
      "execution_count": null,
      "outputs": [
        {
          "output_type": "stream",
          "text": [
            "[1, 2, 3]\n",
            "\tFirst Pass [1, 2, 3]\n",
            "\tSecond pass [1, 2, 3]\n",
            "\n",
            "<range_iterator object at 0x7f8c9552e9f0>\n",
            "\tFirst Pass [9, 8, 7, 6, 5, 4, 3, 2, 1, 0]\n",
            "\tSecond pass []\n",
            "\n",
            "<map object at 0x7f8c95465390>\n",
            "\tFirst Pass [0, 1, 4, 9, 16]\n",
            "\tSecond pass []\n",
            "\n",
            "<zip object at 0x7f8c954f2048>\n",
            "\tFirst Pass [(0, 5), (1, 6), (2, 7), (3, 8), (4, 9)]\n",
            "\tSecond pass []\n",
            "\n",
            "range(0, 5)\n",
            "\tFirst Pass [0, 1, 2, 3, 4]\n",
            "\tSecond pass [0, 1, 2, 3, 4]\n",
            "\n",
            "[(0, 5), (1, 6), (2, 7), (3, 8), (4, 9)]\n",
            "\tFirst Pass [(0, 5), (1, 6), (2, 7), (3, 8), (4, 9)]\n",
            "\tSecond pass [(0, 5), (1, 6), (2, 7), (3, 8), (4, 9)]\n",
            "\n"
          ],
          "name": "stdout"
        }
      ]
    },
    {
      "cell_type": "code",
      "metadata": {
        "id": "A4121qaXI2kq",
        "outputId": "304c71c9-c905-4f92-f219-91dd93b05fe5",
        "colab": {
          "base_uri": "https://localhost:8080/",
          "height": 283
        }
      },
      "source": [
        "items = [ \"one\",\"two\",\"three\",\"four\" ]\n",
        "iterator = iter(items)\n",
        "print(iterator)\n",
        "print(next(iterator))\n",
        "print(next(iterator))\n",
        "print(next(iterator))\n",
        "print(next(iterator))\n",
        "print(next(iterator))"
      ],
      "execution_count": null,
      "outputs": [
        {
          "output_type": "stream",
          "text": [
            "<list_iterator object at 0x7f7449ce1be0>\n",
            "one\n",
            "two\n",
            "three\n",
            "four\n"
          ],
          "name": "stdout"
        },
        {
          "output_type": "error",
          "ename": "StopIteration",
          "evalue": "ignored",
          "traceback": [
            "\u001b[0;31m---------------------------------------------------------------------------\u001b[0m",
            "\u001b[0;31mStopIteration\u001b[0m                             Traceback (most recent call last)",
            "\u001b[0;32m<ipython-input-12-8d3c8fdb3815>\u001b[0m in \u001b[0;36m<module>\u001b[0;34m()\u001b[0m\n\u001b[1;32m      6\u001b[0m \u001b[0mprint\u001b[0m\u001b[0;34m(\u001b[0m\u001b[0mnext\u001b[0m\u001b[0;34m(\u001b[0m\u001b[0miterator\u001b[0m\u001b[0;34m)\u001b[0m\u001b[0;34m)\u001b[0m\u001b[0;34m\u001b[0m\u001b[0;34m\u001b[0m\u001b[0m\n\u001b[1;32m      7\u001b[0m \u001b[0mprint\u001b[0m\u001b[0;34m(\u001b[0m\u001b[0mnext\u001b[0m\u001b[0;34m(\u001b[0m\u001b[0miterator\u001b[0m\u001b[0;34m)\u001b[0m\u001b[0;34m)\u001b[0m\u001b[0;34m\u001b[0m\u001b[0;34m\u001b[0m\u001b[0m\n\u001b[0;32m----> 8\u001b[0;31m \u001b[0mprint\u001b[0m\u001b[0;34m(\u001b[0m\u001b[0mnext\u001b[0m\u001b[0;34m(\u001b[0m\u001b[0miterator\u001b[0m\u001b[0;34m)\u001b[0m\u001b[0;34m)\u001b[0m\u001b[0;34m\u001b[0m\u001b[0;34m\u001b[0m\u001b[0m\n\u001b[0m",
            "\u001b[0;31mStopIteration\u001b[0m: "
          ]
        }
      ]
    },
    {
      "cell_type": "markdown",
      "metadata": {
        "id": "Y8y6DmZIfxFN"
      },
      "source": [
        "# Decorators"
      ]
    },
    {
      "cell_type": "code",
      "metadata": {
        "id": "juOXK8OIbaHM",
        "outputId": "9e07fcf5-bc38-469c-d759-a22446e518c1",
        "colab": {
          "base_uri": "https://localhost:8080/"
        }
      },
      "source": [
        "def square(x):\n",
        "  return x ** 2\n",
        "\n",
        "def print_square(x):\n",
        "  print(f\"Calling fn with {x}\")\n",
        "  return square(x)\n",
        "\n",
        "print_square(5)"
      ],
      "execution_count": null,
      "outputs": [
        {
          "output_type": "stream",
          "text": [
            "Calling fn with 5\n"
          ],
          "name": "stdout"
        },
        {
          "output_type": "execute_result",
          "data": {
            "text/plain": [
              "25"
            ]
          },
          "metadata": {
            "tags": []
          },
          "execution_count": 79
        }
      ]
    },
    {
      "cell_type": "code",
      "metadata": {
        "id": "-xkIyohjb_68",
        "outputId": "cc7ea191-13f0-4f3c-8fcd-bc9c23c32941",
        "colab": {
          "base_uri": "https://localhost:8080/"
        }
      },
      "source": [
        "def print_arg(fn):\n",
        "  def print_fn(x):\n",
        "    print(f'Calling fn with {x}')\n",
        "    return fn(x)\n",
        "  return print_fn\n",
        "\n",
        "# print_square2 = print_arg(square)\n",
        "print_cube = print_arg(lambda x: x**3)\n",
        "# print_square2(5)\n",
        "print_cube(5)"
      ],
      "execution_count": null,
      "outputs": [
        {
          "output_type": "stream",
          "text": [
            "Calling fn with 5\n"
          ],
          "name": "stdout"
        },
        {
          "output_type": "execute_result",
          "data": {
            "text/plain": [
              "125"
            ]
          },
          "metadata": {
            "tags": []
          },
          "execution_count": 15
        }
      ]
    },
    {
      "cell_type": "code",
      "metadata": {
        "id": "zXm04SSdcANb",
        "outputId": "47f09c94-908b-4ae8-a6ce-a6bea37946bc",
        "colab": {
          "base_uri": "https://localhost:8080/"
        }
      },
      "source": [
        "@print_arg\n",
        "def square(x):\n",
        "  return x ** 2\n",
        "\n",
        "square(5)"
      ],
      "execution_count": null,
      "outputs": [
        {
          "output_type": "stream",
          "text": [
            "Calling fn with 5\n"
          ],
          "name": "stdout"
        },
        {
          "output_type": "execute_result",
          "data": {
            "text/plain": [
              "25"
            ]
          },
          "metadata": {
            "tags": []
          },
          "execution_count": 16
        }
      ]
    },
    {
      "cell_type": "code",
      "metadata": {
        "id": "MCi3GdI--_B1"
      },
      "source": [
        ""
      ],
      "execution_count": null,
      "outputs": []
    },
    {
      "cell_type": "markdown",
      "metadata": {
        "id": "M9pva4d_DAQ1"
      },
      "source": [
        "# Dataclasses\n",
        "\n",
        "https://realpython.com/python-data-classes/"
      ]
    },
    {
      "cell_type": "code",
      "metadata": {
        "id": "lpgqI605ZQwJ",
        "outputId": "2eb05f8a-761c-4b48-f5f1-bb42113a3e19",
        "colab": {
          "base_uri": "https://localhost:8080/"
        }
      },
      "source": [
        "from random import random\n",
        "class Point:\n",
        "  def __init__(self, x):\n",
        "    self.x = x\n",
        "\n",
        "x  = {s: Point(random()) for s in \"somerandom string\"}\n",
        "print(x)\n",
        "\n",
        "# max(x.values())\n",
        "max(x.values(), key=lambda v: v.x)"
      ],
      "execution_count": null,
      "outputs": [
        {
          "output_type": "stream",
          "text": [
            "{'s': <__main__.Point object at 0x7f8c954655c0>, 'o': <__main__.Point object at 0x7f8c95465898>, 'm': <__main__.Point object at 0x7f8c95465e80>, 'e': <__main__.Point object at 0x7f8c95465518>, 'r': <__main__.Point object at 0x7f8c9546a828>, 'a': <__main__.Point object at 0x7f8c95465748>, 'n': <__main__.Point object at 0x7f8c9546a2b0>, 'd': <__main__.Point object at 0x7f8c954657f0>, ' ': <__main__.Point object at 0x7f8c95465e48>, 't': <__main__.Point object at 0x7f8c95465e10>, 'i': <__main__.Point object at 0x7f8c95465400>, 'g': <__main__.Point object at 0x7f8c954657b8>}\n"
          ],
          "name": "stdout"
        },
        {
          "output_type": "execute_result",
          "data": {
            "text/plain": [
              "<__main__.Point at 0x7f8c95465e80>"
            ]
          },
          "metadata": {
            "tags": []
          },
          "execution_count": 69
        }
      ]
    },
    {
      "cell_type": "code",
      "metadata": {
        "id": "HUpOQToFDDKe",
        "outputId": "a0c7bb3d-c541-4bae-95e2-dd66c68b5d25",
        "colab": {
          "base_uri": "https://localhost:8080/"
        }
      },
      "source": [
        "from dataclasses import dataclass\n",
        "\n",
        "@dataclass\n",
        "class Card:\n",
        "  rank: str\n",
        "  suit: str\n",
        "\n",
        "print(Card(\"Ace\", \"spades\"))"
      ],
      "execution_count": null,
      "outputs": [
        {
          "output_type": "stream",
          "text": [
            "Card(rank='Ace', suit='spades')\n"
          ],
          "name": "stdout"
        }
      ]
    },
    {
      "cell_type": "markdown",
      "metadata": {
        "id": "Rh9fF6qgMqAV"
      },
      "source": [
        "# Itertools\n",
        "\n",
        "* count\n",
        " * like range with no stop\n",
        "* cycle \n",
        "* repeat\n",
        "* chain\n",
        "  * iterate through multiple iterables without combining\n",
        "* accumulate\n",
        "* combinations\n",
        "* AND MORE ...\n"
      ]
    },
    {
      "cell_type": "markdown",
      "metadata": {
        "id": "TsuCgCGyOB_7"
      },
      "source": [
        "# Functools"
      ]
    },
    {
      "cell_type": "code",
      "metadata": {
        "id": "BAY5FA1qOD4-",
        "outputId": "dd73eeb8-0568-4dd2-bb6e-fa9dbe3b0d6d",
        "colab": {
          "base_uri": "https://localhost:8080/"
        }
      },
      "source": [
        "from functools import lru_cache, partial\n",
        "\n",
        "def fib(n):\n",
        "  if n == 1 or n == 2:\n",
        "    return 1\n",
        "  else:\n",
        "    return fib(n - 1) + fib(n - 2)\n",
        "\n",
        "%timeit fib(20)\n",
        "\n",
        "\n",
        "@lru_cache()\n",
        "def fib(n):\n",
        "  if n == 1 or n == 2:\n",
        "    return 1\n",
        "  else:\n",
        "    return fib(n - 1) + fib(n - 2)\n",
        "\n",
        "%timeit fib(200)\n",
        "\n",
        "\n",
        "def add(a, b):\n",
        "  return a + b\n",
        "\n",
        "add_5 = partial(add, 5)\n",
        "add_5(10)"
      ],
      "execution_count": null,
      "outputs": [
        {
          "output_type": "stream",
          "text": [
            "1000 loops, best of 3: 1.54 ms per loop\n",
            "The slowest run took 1642.25 times longer than the fastest. This could mean that an intermediate result is being cached.\n",
            "10000000 loops, best of 3: 83 ns per loop\n"
          ],
          "name": "stdout"
        },
        {
          "output_type": "execute_result",
          "data": {
            "text/plain": [
              "15"
            ]
          },
          "metadata": {
            "tags": []
          },
          "execution_count": 41
        }
      ]
    },
    {
      "cell_type": "markdown",
      "metadata": {
        "id": "UAWQrmgtKrfI"
      },
      "source": [
        "# Master your built-ins\n",
        "\n",
        "https://docs.python.org/3/library/functions.html\n",
        "\n",
        "* breakpoint (https://docs.python.org/3/library/functions.html#breakpoint)\n",
        "* dir (https://docs.python.org/3/library/functions.html#dir)\n",
        "* max, min\n",
        "* any, all\n"
      ]
    },
    {
      "cell_type": "markdown",
      "metadata": {
        "id": "WgTVbnGyfrox"
      },
      "source": [
        "# Context Managers"
      ]
    },
    {
      "cell_type": "code",
      "metadata": {
        "id": "se1hZkpgfqa4"
      },
      "source": [
        "file_pointer = open(\"Some file.txt\")\n",
        "r = file_pointer.read()\n",
        "file_pointer.close()\n",
        "\n",
        "with open(\"Some file.txt\") as file_pointer:\n",
        "  r = file_pointer.read()\n",
        "#automatically closes\n"
      ],
      "execution_count": null,
      "outputs": []
    },
    {
      "cell_type": "markdown",
      "metadata": {
        "id": "tgIBO_ztf4O8"
      },
      "source": [
        "# Class Magic (Dunder) Methods\n",
        "\n",
        "* https://docs.python.org/3/reference/datamodel.html#basic-customization\n",
        "* https://www.youtube.com/watch?v=cKPlPJyQrt4&t=11s"
      ]
    },
    {
      "cell_type": "code",
      "metadata": {
        "id": "gO3uNKV-_K99",
        "outputId": "089cba90-a95b-4a22-e067-8277a56dbfa5",
        "colab": {
          "base_uri": "https://localhost:8080/",
          "height": 35
        }
      },
      "source": [
        "class Example:\n",
        "\n",
        "  def __init__(self, v):\n",
        "    self.v = v\n",
        "\n",
        "  def __add__(self, other):\n",
        "    return self.v + other.v\n",
        "\n",
        "  def __lt__(self, other):\n",
        "    return self.v < other.v\n",
        "\n",
        "x = Example(5)\n",
        "y = Example(6)\n",
        "\n",
        "x + y, x < y"
      ],
      "execution_count": null,
      "outputs": [
        {
          "output_type": "execute_result",
          "data": {
            "text/plain": [
              "(11, False)"
            ]
          },
          "metadata": {
            "tags": []
          },
          "execution_count": 90
        }
      ]
    },
    {
      "cell_type": "markdown",
      "metadata": {
        "id": "VBPOAjXZdtxQ"
      },
      "source": [
        "# The Collections Module\n",
        "\n",
        "https://docs.python.org/3.8/library/collections.html"
      ]
    },
    {
      "cell_type": "code",
      "metadata": {
        "id": "_rCtN0AAc738",
        "outputId": "7a5d42c8-8122-4201-afbd-92e17e2a0048",
        "colab": {
          "base_uri": "https://localhost:8080/"
        }
      },
      "source": [
        "from collections import Counter, defaultdict, namedtuple\n",
        "\n",
        "\n",
        "counter = Counter(\"Count the letters in this string\")\n",
        "print(counter)\n",
        "counter.most_common(3)\n"
      ],
      "execution_count": null,
      "outputs": [
        {
          "output_type": "stream",
          "text": [
            "Counter({'t': 6, ' ': 5, 'n': 3, 'e': 3, 's': 3, 'i': 3, 'h': 2, 'r': 2, 'C': 1, 'o': 1, 'u': 1, 'l': 1, 'g': 1})\n"
          ],
          "name": "stdout"
        },
        {
          "output_type": "execute_result",
          "data": {
            "text/plain": [
              "[('t', 6), (' ', 5), ('n', 3)]"
            ]
          },
          "metadata": {
            "tags": []
          },
          "execution_count": 44
        }
      ]
    },
    {
      "cell_type": "code",
      "metadata": {
        "id": "VoPkoem1S29n",
        "outputId": "afe03435-b5d7-4b8f-bded-795e660a89f0",
        "colab": {
          "base_uri": "https://localhost:8080/",
          "height": 232
        }
      },
      "source": [
        "d = {}\n",
        "for k in ['k1', 'k2', 'k3']:\n",
        "  if k in d:\n",
        "    d[k] = []\n",
        "  d[k].append(\"something\")\n",
        "\n",
        "d = defaultdict(list)\n",
        "for k in ['k1', 'k2', 'k3']:  \n",
        "  d[k].append(\"Something\")\n"
      ],
      "execution_count": null,
      "outputs": [
        {
          "output_type": "error",
          "ename": "KeyError",
          "evalue": "ignored",
          "traceback": [
            "\u001b[0;31m---------------------------------------------------------------------------\u001b[0m",
            "\u001b[0;31mKeyError\u001b[0m                                  Traceback (most recent call last)",
            "\u001b[0;32m<ipython-input-1-07f89a271bc1>\u001b[0m in \u001b[0;36m<module>\u001b[0;34m()\u001b[0m\n\u001b[1;32m      3\u001b[0m   \u001b[0;32mif\u001b[0m \u001b[0mk\u001b[0m \u001b[0;32min\u001b[0m \u001b[0md\u001b[0m\u001b[0;34m:\u001b[0m\u001b[0;34m\u001b[0m\u001b[0;34m\u001b[0m\u001b[0m\n\u001b[1;32m      4\u001b[0m     \u001b[0md\u001b[0m\u001b[0;34m[\u001b[0m\u001b[0mk\u001b[0m\u001b[0;34m]\u001b[0m \u001b[0;34m=\u001b[0m \u001b[0;34m[\u001b[0m\u001b[0;34m]\u001b[0m\u001b[0;34m\u001b[0m\u001b[0;34m\u001b[0m\u001b[0m\n\u001b[0;32m----> 5\u001b[0;31m   \u001b[0md\u001b[0m\u001b[0;34m[\u001b[0m\u001b[0mk\u001b[0m\u001b[0;34m]\u001b[0m\u001b[0;34m.\u001b[0m\u001b[0mappend\u001b[0m\u001b[0;34m(\u001b[0m\u001b[0;34m\"something\"\u001b[0m\u001b[0;34m)\u001b[0m\u001b[0;34m\u001b[0m\u001b[0;34m\u001b[0m\u001b[0m\n\u001b[0m\u001b[1;32m      6\u001b[0m \u001b[0;34m\u001b[0m\u001b[0m\n\u001b[1;32m      7\u001b[0m \u001b[0md\u001b[0m \u001b[0;34m=\u001b[0m \u001b[0mdefaultdict\u001b[0m\u001b[0;34m(\u001b[0m\u001b[0mlist\u001b[0m\u001b[0;34m)\u001b[0m\u001b[0;34m\u001b[0m\u001b[0;34m\u001b[0m\u001b[0m\n",
            "\u001b[0;31mKeyError\u001b[0m: 'k1'"
          ]
        }
      ]
    },
    {
      "cell_type": "code",
      "metadata": {
        "id": "mInX7IOHS3Jk"
      },
      "source": [
        "color = (5, 6, 200) # (r, g, b)\n",
        "\n",
        "# OR\n",
        "\n",
        "Color = namedtuple('Color', [\"red\", \"green\", \"blue\"])\n",
        "\n",
        "color = Color(5, 6, 200)\n",
        "\n",
        "assert color[2] == color.blue\n"
      ],
      "execution_count": null,
      "outputs": []
    },
    {
      "cell_type": "markdown",
      "metadata": {
        "id": "dgR6YqN1fuIm"
      },
      "source": [
        "# Async\n",
        "\n",
        "This is a big topic that could take an hour on it's own. Leaving it here for reference but I'll be skipping this."
      ]
    },
    {
      "cell_type": "markdown",
      "metadata": {
        "id": "11JJbFevfjRb"
      },
      "source": [
        "# There are SOOOO many modules\n",
        "\n",
        "Take your time to search for a feature you want. There's a good chance it's in the standard lib: https://docs.python.org/3/library/index.html\n",
        "\n",
        "* bisect\n",
        "* hashlib\n",
        "* random\n",
        "* re\n",
        "* json\n",
        "* "
      ]
    },
    {
      "cell_type": "markdown",
      "metadata": {
        "id": "4rtGroD_XDdW"
      },
      "source": [
        "# Debuggers\n",
        "\n",
        "The use of the debugger is probably the most important thing for you to learn!\n",
        "\n",
        "pdb is shipped with python"
      ]
    },
    {
      "cell_type": "markdown",
      "metadata": {
        "id": "JPVZFXKdDsR8"
      },
      "source": [
        "# Stay up to date!!!!\n",
        "\n",
        "Things are always changing and new things are being added to make your life easier\n"
      ]
    },
    {
      "cell_type": "code",
      "metadata": {
        "id": "gUI-PG57Dv7r",
        "outputId": "23cfcbfd-9fed-4482-8efc-1eb271fa3348",
        "colab": {
          "base_uri": "https://localhost:8080/"
        }
      },
      "source": [
        "# Merging dicts\n",
        "d1 = {chr(i): i for i in range(60, 70)}\n",
        "d2 = {chr(i): i  for i in range(70, 80)}\n",
        "\n",
        "d3 = {**d1, **d2}\n",
        "\n",
        "d4 = {}\n",
        "d4.update(d1)\n",
        "d4 |= d2\n",
        "\n",
        "\n",
        "https://docs.python.org/3.8/whatsnew/3.8.html\n",
        "https://docs.python.org/3.9/whatsnew/3.9.html\n",
        "https://docs.python.org/3.10/whatsnew/3.10.html"
      ],
      "execution_count": null,
      "outputs": [
        {
          "output_type": "error",
          "ename": "TypeError",
          "evalue": "ignored",
          "traceback": [
            "\u001b[0;31m---------------------------------------------------------------------------\u001b[0m",
            "\u001b[0;31mTypeError\u001b[0m                                 Traceback (most recent call last)",
            "\u001b[0;32m<ipython-input-15-33e46fa59a1b>\u001b[0m in \u001b[0;36m<module>\u001b[0;34m()\u001b[0m\n\u001b[1;32m      7\u001b[0m \u001b[0md4\u001b[0m \u001b[0;34m=\u001b[0m \u001b[0;34m{\u001b[0m\u001b[0;34m}\u001b[0m\u001b[0;34m\u001b[0m\u001b[0;34m\u001b[0m\u001b[0m\n\u001b[1;32m      8\u001b[0m \u001b[0md4\u001b[0m\u001b[0;34m.\u001b[0m\u001b[0mupdate\u001b[0m\u001b[0;34m(\u001b[0m\u001b[0md1\u001b[0m\u001b[0;34m)\u001b[0m\u001b[0;34m\u001b[0m\u001b[0;34m\u001b[0m\u001b[0m\n\u001b[0;32m----> 9\u001b[0;31m \u001b[0md4\u001b[0m \u001b[0;34m|=\u001b[0m \u001b[0md2\u001b[0m\u001b[0;34m\u001b[0m\u001b[0;34m\u001b[0m\u001b[0m\n\u001b[0m",
            "\u001b[0;31mTypeError\u001b[0m: unsupported operand type(s) for |=: 'dict' and 'dict'"
          ]
        }
      ]
    },
    {
      "cell_type": "markdown",
      "metadata": {
        "id": "uV0BklweeHEX"
      },
      "source": [
        "# 3rd Party Python Module\n",
        "\n",
        "There are modules for EVERYTHING.\n",
        "* pytest\n",
        "* tox\n",
        "* requests\n",
        "* argparse/click"
      ]
    },
    {
      "cell_type": "markdown",
      "metadata": {
        "id": "OI4JccSkf8Wx"
      },
      "source": [
        "# Much Much more!\n",
        "\n",
        "* Blogs (https://blog.feedspot.com/python_blogs/, https://pycoders.com/, https://www.pythonweekly.com/)\n",
        "* Tutorials\n",
        "* Challenge Questions\n",
        "* Practice!"
      ]
    },
    {
      "cell_type": "code",
      "metadata": {
        "id": "N5bOeTuoSl2P"
      },
      "source": [
        ""
      ],
      "execution_count": null,
      "outputs": []
    }
  ]
}